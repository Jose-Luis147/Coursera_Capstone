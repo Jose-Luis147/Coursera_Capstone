{
    "cells": [
        {
            "metadata": {
                "collapsed": true
            },
            "cell_type": "markdown",
            "source": "<h1>Segmenting and Clustering Neighborhoods in Toronto <h1>"
        },
        {
            "metadata": {},
            "cell_type": "code",
            "source": "import numpy as np # library to handle data in a vectorized manner\n\nimport pandas as pd # library for data analsysis\n\nfrom bs4 import BeautifulSoup\n# Matplotlib and associated plotting modules\nimport requests\n# import k-means from clustering stage\nfrom sklearn.cluster import KMeans\n\nprint('Libraries imported.')",
            "execution_count": 1,
            "outputs": [
                {
                    "output_type": "stream",
                    "text": "Libraries imported.\n",
                    "name": "stdout"
                }
            ]
        },
        {
            "metadata": {},
            "cell_type": "code",
            "source": "req = requests.get(\"https://en.wikipedia.org/wiki/List_of_postal_codes_of_Canada:_M\")\nsoup = BeautifulSoup(req.content,'lxml')\ntable = soup.find_all('table')[0]\ndf = pd.read_html(str(table))\nneighborhood = pd.DataFrame(df[0])\n",
            "execution_count": 2,
            "outputs": []
        },
        {
            "metadata": {},
            "cell_type": "code",
            "source": "table_contents=[]\ntable=soup.find('table')\nfor row in table.findAll('td'):\n    cell = {}\n    if row.span.text=='Not assigned':\n        pass\n    else:\n        cell['PostalCode'] = row.p.text[:3]\n        cell['Borough'] = (row.span.text).split('(')[0]\n        cell['Neighborhood'] = (((((row.span.text).split('(')[1]).strip(')')).replace(' /',',')).replace(')',' ')).strip(' ')\n        table_contents.append(cell)\n\n# print(table_contents)\ndf=pd.DataFrame(table_contents)\ndf['Borough']=df['Borough'].replace({'Downtown TorontoStn A PO Boxes25 The Esplanade':'Downtown Toronto Stn A',\n                                             'East TorontoBusiness reply mail Processing Centre969 Eastern':'East Toronto Business',\n                                             'EtobicokeNorthwest':'Etobicoke Northwest','East YorkEast Toronto':'East York/East Toronto',\n                                             'MississaugaCanada Post Gateway Processing Centre':'Mississauga'})\ndf.head()",
            "execution_count": 3,
            "outputs": [
                {
                    "output_type": "execute_result",
                    "execution_count": 3,
                    "data": {
                        "text/plain": "  PostalCode           Borough                      Neighborhood\n0        M3A        North York                         Parkwoods\n1        M4A        North York                  Victoria Village\n2        M5A  Downtown Toronto         Regent Park, Harbourfront\n3        M6A        North York  Lawrence Manor, Lawrence Heights\n4        M7A      Queen's Park     Ontario Provincial Government",
                        "text/html": "<div>\n<style scoped>\n    .dataframe tbody tr th:only-of-type {\n        vertical-align: middle;\n    }\n\n    .dataframe tbody tr th {\n        vertical-align: top;\n    }\n\n    .dataframe thead th {\n        text-align: right;\n    }\n</style>\n<table border=\"1\" class=\"dataframe\">\n  <thead>\n    <tr style=\"text-align: right;\">\n      <th></th>\n      <th>PostalCode</th>\n      <th>Borough</th>\n      <th>Neighborhood</th>\n    </tr>\n  </thead>\n  <tbody>\n    <tr>\n      <th>0</th>\n      <td>M3A</td>\n      <td>North York</td>\n      <td>Parkwoods</td>\n    </tr>\n    <tr>\n      <th>1</th>\n      <td>M4A</td>\n      <td>North York</td>\n      <td>Victoria Village</td>\n    </tr>\n    <tr>\n      <th>2</th>\n      <td>M5A</td>\n      <td>Downtown Toronto</td>\n      <td>Regent Park, Harbourfront</td>\n    </tr>\n    <tr>\n      <th>3</th>\n      <td>M6A</td>\n      <td>North York</td>\n      <td>Lawrence Manor, Lawrence Heights</td>\n    </tr>\n    <tr>\n      <th>4</th>\n      <td>M7A</td>\n      <td>Queen's Park</td>\n      <td>Ontario Provincial Government</td>\n    </tr>\n  </tbody>\n</table>\n</div>"
                    },
                    "metadata": {}
                }
            ]
        },
        {
            "metadata": {
                "scrolled": true
            },
            "cell_type": "code",
            "source": "!pip install geopy\n!conda install -c conda-forge geocoder --yes  \nimport geocoder # import geocoder\nlatitude=[]\nlongitude=[]\nfor code in df['PostalCode']:\n    g = geocoder.arcgis('{}, Toronto, Ontario'.format(code))\n    print(code, g.latlng)\n    while (g.latlng is None):\n        g = geocoder.arcgis('{}, Toronto, Ontario'.format(code))\n        print(code, g.latlng)\n    latlng = g.latlng\n    latitude.append(latlng[0])\n    longitude.append(latlng[1])\n    ",
            "execution_count": 5,
            "outputs": [
                {
                    "output_type": "stream",
                    "text": "Requirement already satisfied: geopy in /opt/conda/envs/Python-3.7-main/lib/python3.7/site-packages (2.0.0)\nRequirement already satisfied: geographiclib<2,>=1.49 in /opt/conda/envs/Python-3.7-main/lib/python3.7/site-packages (from geopy) (1.50)\nCollecting package metadata (current_repodata.json): done\nSolving environment: done\n\n# All requested packages already installed.\n\nM3A [43.75245000000007, -79.32990999999998]\nM4A [43.73057000000006, -79.31305999999995]\nM5A [43.65512000000007, -79.36263999999994]\nM6A [43.72327000000007, -79.45041999999995]\nM7A [43.66253000000006, -79.39187999999996]\nM9A [43.662630000000036, -79.52830999999998]\nM1B [43.811390000000074, -79.19661999999994]\nM3B [43.74923000000007, -79.36185999999998]\nM4B [43.70718000000005, -79.31191999999999]\nM5B [43.65739000000008, -79.37803999999994]\nM6B [43.70687000000004, -79.44811999999996]\nM9B [43.65034000000003, -79.55361999999997]\nM1C [43.78574000000003, -79.15874999999994]\nM3C [43.72168000000005, -79.34351999999996]\nM4C [43.68970000000007, -79.30681999999996]\nM5C [43.65215000000006, -79.37586999999996]\nM6C [43.69211000000007, -79.43035999999995]\nM9C [43.64857000000006, -79.57824999999997]\nM1E [43.765750000000025, -79.17469999999997]\nM4E [43.67709000000008, -79.29546999999997]\nM5E [43.64536000000004, -79.37305999999995]\nM6E [43.68784000000005, -79.45045999999996]\nM1G [43.76812000000007, -79.21760999999998]\nM4G [43.709020000000066, -79.36348999999996]\nM5G [43.65609000000006, -79.38492999999994]\nM6G [43.668690000000026, -79.42070999999999]\nM1H [43.76944000000003, -79.23891999999995]\nM2H [43.80225000000007, -79.35557999999997]\nM3H [43.75788000000006, -79.44846999999999]\nM4H [43.70142000000004, -79.34904999999998]\nM5H [43.64970000000005, -79.38257999999996]\nM6H [43.665050000000065, -79.43890999999996]\nM1J [43.74446000000006, -79.23116999999996]\nM2J [43.780970000000025, -79.34780999999998]\nM3J [43.76476000000008, -79.48797999999994]\nM4J [43.68811000000005, -79.33417999999995]\nM5J [43.64285000000007, -79.38075999999995]\nM6J [43.64848000000006, -79.41773999999998]\nM1K [43.725820000000056, -79.26460999999995]\nM2K [43.781120000000044, -79.38059999999996]\nM3K [43.73384000000004, -79.46827999999994]\nM4K [43.68375000000003, -79.35511999999994]\nM5K [43.64710000000008, -79.38152999999994]\nM6K [43.639410000000055, -79.42675999999994]\nM1L [43.71289000000007, -79.28505999999999]\nM2L [43.756980000000055, -79.38059999999996]\nM3L [43.720710000000054, -79.51700999999997]\nM4L [43.667970000000025, -79.31466999999998]\nM5L [43.64840000000004, -79.37913999999995]\nM6L [43.71381000000008, -79.48873999999995]\nM9L [43.75948000000005, -79.55706999999995]\nM1M [43.72360000000003, -79.23495999999994]\nM2M [43.79182000000003, -79.41371999999996]\nM3M [43.73224000000005, -79.50177999999994]\nM4M [43.66213000000005, -79.33496999999994]\nM5M [43.73545000000007, -79.41915999999998]\nM6M [43.695170000000076, -79.48396999999994]\nM9M [43.733670000000075, -79.53768999999994]\nM1N [43.695100000000025, -79.26465999999994]\nM2N [43.76774000000006, -79.40727999999996]\nM3N [43.75478000000004, -79.51958999999994]\nM4N [43.72843000000006, -79.38712999999996]\nM5N [43.71208000000007, -79.41847999999999]\nM6N [43.67646000000008, -79.48271999999997]\nM9N [43.705070000000035, -79.51803999999998]\nM1P [43.75998000000004, -79.26939999999996]\nM2P [43.747780000000034, -79.40032999999994]\nM4P [43.71276000000006, -79.38850999999994]\nM5P [43.69479000000007, -79.41439999999994]\nM6P [43.659730000000025, -79.46280999999993]\nM9P [43.696300000000065, -79.52925999999997]\nM1R [43.75075000000004, -79.30053999999996]\nM2R [43.77989000000008, -79.44677999999999]\nM4R [43.71458000000007, -79.40667999999994]\nM5R [43.674840000000074, -79.40451999999993]\nM6R [43.64777000000004, -79.44988999999998]\nM7R [43.648690000000045, -79.38543999999996]\nM9R [43.68681000000004, -79.55727999999993]\nM1S [43.794520000000034, -79.26707999999996]\nM4S [43.703400000000045, -79.38658999999996]\nM5S [43.663110000000074, -79.40179999999998]\nM6S [43.649820000000034, -79.47547999999995]\nM1T [43.784910000000025, -79.29721999999998]\nM4T [43.690480000000036, -79.38317999999998]\nM5T [43.65351000000004, -79.39721999999995]\nM1V [43.817810000000065, -79.28043999999994]\nM4V [43.68568000000005, -79.40236999999996]\nM5V [43.640820000000076, -79.39817999999997]\nM8V [43.60987000000006, -79.49808999999993]\nM9V [43.744530000000054, -79.58623999999998]\nM1W [43.80079000000006, -79.32161999999994]\nM4W [43.68190000000004, -79.37828999999994]\nM5W [43.648690000000045, -79.38543999999996]\nM8W [43.601240000000075, -79.53878999999995]\nM9W [43.71174000000008, -79.57940999999994]\nM1X [43.83412000000004, -79.21667999999994]\nM4X [43.667880000000025, -79.36648999999994]\nM5X [43.64828000000006, -79.38145999999995]\nM8X [43.65319000000005, -79.51112999999998]\nM4Y [43.66659000000004, -79.38132999999993]\nM7Y [43.648690000000045, -79.38543999999996]\nM8Y [43.632780000000025, -79.48944999999998]\nM8Z [43.62513000000007, -79.52680999999995]\n",
                    "name": "stdout"
                }
            ]
        },
        {
            "metadata": {},
            "cell_type": "code",
            "source": "column_names = ['Borough', 'Neighborhood', 'Latitude', 'Longitude'] \n\n# instantiate the dataframe\nneighborhoods = pd.DataFrame(columns=column_names)\nneighborhoods",
            "execution_count": 5,
            "outputs": [
                {
                    "output_type": "execute_result",
                    "execution_count": 5,
                    "data": {
                        "text/plain": "Empty DataFrame\nColumns: [Borough, Neighborhood, Latitude, Longitude]\nIndex: []",
                        "text/html": "<div>\n<style scoped>\n    .dataframe tbody tr th:only-of-type {\n        vertical-align: middle;\n    }\n\n    .dataframe tbody tr th {\n        vertical-align: top;\n    }\n\n    .dataframe thead th {\n        text-align: right;\n    }\n</style>\n<table border=\"1\" class=\"dataframe\">\n  <thead>\n    <tr style=\"text-align: right;\">\n      <th></th>\n      <th>Borough</th>\n      <th>Neighborhood</th>\n      <th>Latitude</th>\n      <th>Longitude</th>\n    </tr>\n  </thead>\n  <tbody>\n  </tbody>\n</table>\n</div>"
                    },
                    "metadata": {}
                }
            ]
        },
        {
            "metadata": {},
            "cell_type": "code",
            "source": "for data in neighborhoods_data:\n    borough = neighborhood_name = data['properties']['borough'] \n    neighborhood_name = data['properties']['name']\n        \n    neighborhood_latlon = data['geometry']['coordinates']\n    neighborhood_lat = neighborhood_latlon[1]\n    neighborhood_lon = neighborhood_latlon[0]\n    \n    neighborhoods = neighborhoods.append({'Borough': borough,\n                                          'Neighborhood': neighborhood_name,\n                                          'Latitude': neighborhood_lat,\n                                          'Longitude': neighborhood_lon}, ignore_index=True)",
            "execution_count": null,
            "outputs": []
        }
    ],
    "metadata": {
        "kernelspec": {
            "name": "python3",
            "display_name": "Python 3.7",
            "language": "python"
        },
        "language_info": {
            "name": "python",
            "version": "3.7.10",
            "mimetype": "text/x-python",
            "codemirror_mode": {
                "name": "ipython",
                "version": 3
            },
            "pygments_lexer": "ipython3",
            "nbconvert_exporter": "python",
            "file_extension": ".py"
        }
    },
    "nbformat": 4,
    "nbformat_minor": 1
}