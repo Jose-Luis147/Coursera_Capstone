{
  "cells": [
    {
      "cell_type": "markdown",
      "metadata": {
        "id": "LI_-nbYYcF4E"
      },
      "source": [
        "[texto del enlace](https://)# Batalla de los vecinos\n"
      ]
    },
    {
      "cell_type": "markdown",
      "metadata": {
        "id": "4UzzOBu7cF4F"
      },
      "source": [
        "## INTRODUCCION"
      ]
    },
    {
      "cell_type": "markdown",
      "metadata": {
        "id": "wVsMAl3TcF4G"
      },
      "source": [
        "Este proyecto es para quienes planean abrir una cafetería en Ankara, Turquía. Este proyecto sugiere las mejores ubicaciones para Coffee Houses en Ankara. Ankara es la capital de Turquía con una población de 5M. La cultura turca tiene profundas raíces en el café. Además, se está volviendo popular debido a sus precios asequibles. El consumo de café ha aumentado un 13% y el consumo medio es de 1,1 kg/persona en 2018.\n",
        "Este informe explora qué barrios de Ankara tienen más y las mejores cafeterías. Además, este proyecto responde a las preguntas \"¿Dónde debo abrir una cafetería?\" y “¿Dónde debo quedarme si quiero un rico café?”"
      ]
    },
    {
      "cell_type": "markdown",
      "metadata": {
        "id": "KtGXXF9tcF4H"
      },
      "source": [
        "## Data"
      ]
    },
    {
      "cell_type": "markdown",
      "metadata": {
        "id": "Zvtj4P1_cF4I"
      },
      "source": [
        "Distrito de Ankara se obtienen de https://en.wikipedia.org/wiki/Ankara_Province\n",
        "Los valores de latitud y longitud se obtienen utilizando \"geocodificador\".\n",
        "Todos los datos relacionados con las ubicaciones se obtendrán mediante la API de FourSquare y las bibliotecas de Python."
      ]
    },
    {
      "cell_type": "code",
      "execution_count": null,
      "metadata": {
        "id": "3cWST2JDcF4I",
        "outputId": "0e412fe7-3664-4f12-bbcd-7abe26cbad96"
      },
      "outputs": [
        {
          "name": "stdout",
          "output_type": "stream",
          "text": [
            "Collecting package metadata (repodata.json): ...working... done\n",
            "Solving environment: ...working... \n",
            "Warning: 2 possible package resolutions (only showing differing packages):\n",
            "  - anaconda/win-64::conda-4.8.1-py36_0\n",
            "  - defaults/win-64::conda-4.8.1-py36_0done\n",
            "\n",
            "# All requested packages already installed.\n",
            "\n"
          ]
        }
      ],
      "source": [
        "import requests\n",
        "import pandas as pd\n",
        "from bs4 import BeautifulSoup\n",
        "!conda install -c conda-forge geopy --yes\n",
        "import geocoder"
      ]
    },
    {
      "cell_type": "code",
      "execution_count": null,
      "metadata": {
        "id": "UU_wrgoycF4K",
        "outputId": "76ae69ff-3dec-4757-a918-dcaa3c4d4366"
      },
      "outputs": [
        {
          "data": {
            "text/plain": [
              "<Response [200]>"
            ]
          },
          "execution_count": 3,
          "metadata": {},
          "output_type": "execute_result"
        }
      ],
      "source": [
        "wiki_link = 'https://en.wikipedia.org/wiki/Ankara_Province'\n",
        "wiki_page = requests.get(wiki_link, headers = headers)\n",
        "wiki_page"
      ]
    },
    {
      "cell_type": "code",
      "execution_count": null,
      "metadata": {
        "id": "Cnn-xmJmcF4L"
      },
      "outputs": [],
      "source": [
        "soup = BeautifulSoup(wiki_page.content, 'html.parser')\n",
        "table = soup.find('table', {'class':'wikitable sortable'}).tbody"
      ]
    },
    {
      "cell_type": "code",
      "execution_count": null,
      "metadata": {
        "id": "P4qxpItBcF4M"
      },
      "outputs": [],
      "source": [
        "rows = table.find_all('tr')"
      ]
    },
    {
      "cell_type": "code",
      "execution_count": null,
      "metadata": {
        "id": "iOzRTIYEcF4N",
        "outputId": "5ee93782-5f94-4e44-dc9c-15098bbf1938"
      },
      "outputs": [
        {
          "data": {
            "text/plain": [
              "['District', 'Population (2017)', 'Area (km²)', 'Density (per km²)']"
            ]
          },
          "execution_count": 7,
          "metadata": {},
          "output_type": "execute_result"
        }
      ],
      "source": [
        "columns = [i.text.replace('\\n', '') for i in rows[0].find_all('th')]\n",
        "columns"
      ]
    },
    {
      "cell_type": "code",
      "execution_count": null,
      "metadata": {
        "id": "7ZMnGrNWcF4N"
      },
      "outputs": [],
      "source": [
        "df_ankara = pd.DataFrame(columns = columns)"
      ]
    },
    {
      "cell_type": "code",
      "execution_count": null,
      "metadata": {
        "id": "HX6YXhLUcF4O"
      },
      "outputs": [],
      "source": [
        "for i in range(1, len(rows)):\n",
        "    tds = rows[i].find_all('td')\n",
        "    \n",
        "    if len(tds) == 7:\n",
        "        values = [tds[0].text, tds[1].text, tds[2].text.replace('\\n', ''.replace('\\xa0','')), tds[3].text, tds[4].text.replace('\\n', ''.replace('\\xa0','')), tds[5].text.replace('\\n', ''.replace('\\xa0','')), tds[6].text.replace('\\n', ''.replace('\\xa0',''))]\n",
        "    else:\n",
        "        values = [td.text.replace('\\n', '').replace('\\xa0','') for td in tds]\n",
        "        \n",
        "        df_ankara = df_ankara.append(pd.Series(values, index = columns), ignore_index = True)\n",
        "\n",
        "        df_ankara"
      ]
    },
    {
      "cell_type": "code",
      "execution_count": null,
      "metadata": {
        "id": "ktc7VPeRcF4O",
        "outputId": "281b1469-cda9-4789-afe1-3d358106c5a7"
      },
      "outputs": [
        {
          "data": {
            "text/html": [
              "<div>\n",
              "<style scoped>\n",
              "    .dataframe tbody tr th:only-of-type {\n",
              "        vertical-align: middle;\n",
              "    }\n",
              "\n",
              "    .dataframe tbody tr th {\n",
              "        vertical-align: top;\n",
              "    }\n",
              "\n",
              "    .dataframe thead th {\n",
              "        text-align: right;\n",
              "    }\n",
              "</style>\n",
              "<table border=\"1\" class=\"dataframe\">\n",
              "  <thead>\n",
              "    <tr style=\"text-align: right;\">\n",
              "      <th></th>\n",
              "      <th>District</th>\n",
              "      <th>Population (2017)</th>\n",
              "      <th>Area (km²)</th>\n",
              "      <th>Density (per km²)</th>\n",
              "    </tr>\n",
              "  </thead>\n",
              "  <tbody>\n",
              "    <tr>\n",
              "      <th>0</th>\n",
              "      <td>Akyurt</td>\n",
              "      <td>32.863</td>\n",
              "      <td>369</td>\n",
              "      <td>89</td>\n",
              "    </tr>\n",
              "    <tr>\n",
              "      <th>1</th>\n",
              "      <td>Altındağ</td>\n",
              "      <td>371.366</td>\n",
              "      <td>123</td>\n",
              "      <td>3.019</td>\n",
              "    </tr>\n",
              "    <tr>\n",
              "      <th>2</th>\n",
              "      <td>Ayaş</td>\n",
              "      <td>12.289</td>\n",
              "      <td>1.041</td>\n",
              "      <td>12</td>\n",
              "    </tr>\n",
              "    <tr>\n",
              "      <th>3</th>\n",
              "      <td>Bala</td>\n",
              "      <td>21.682</td>\n",
              "      <td>1.851</td>\n",
              "      <td>12</td>\n",
              "    </tr>\n",
              "    <tr>\n",
              "      <th>4</th>\n",
              "      <td>Beypazarı</td>\n",
              "      <td>48.476</td>\n",
              "      <td>1.697</td>\n",
              "      <td>29</td>\n",
              "    </tr>\n",
              "  </tbody>\n",
              "</table>\n",
              "</div>"
            ],
            "text/plain": [
              "    District Population (2017) Area (km²) Density (per km²)\n",
              "0     Akyurt            32.863        369                89\n",
              "1   Altındağ           371.366        123             3.019\n",
              "2       Ayaş            12.289      1.041                12\n",
              "3       Bala            21.682      1.851                12\n",
              "4  Beypazarı            48.476      1.697                29"
            ]
          },
          "execution_count": 11,
          "metadata": {},
          "output_type": "execute_result"
        }
      ],
      "source": [
        "df_ankara.head()"
      ]
    },
    {
      "cell_type": "code",
      "execution_count": null,
      "metadata": {
        "id": "zVm_dSZBcF4O"
      },
      "outputs": [],
      "source": [
        "def get_latlng(arcgis_geocoder):\n",
        "    \n",
        "    lat_lng_coords = None\n",
        "    \n",
        "    while(lat_lng_coords is None):\n",
        "        g = geocoder.arcgis('{}, Ankara, Turkey'.format(arcgis_geocoder))\n",
        "        lat_lng_coords = g.latlng\n",
        "    return lat_lng_coords"
      ]
    },
    {
      "cell_type": "code",
      "execution_count": null,
      "metadata": {
        "id": "SiE1q9hMcF4P"
      },
      "outputs": [],
      "source": [
        "districts = df_ankara['District']    \n",
        "coordinates = [get_latlng(districts) for districts in districts.tolist()]"
      ]
    },
    {
      "cell_type": "code",
      "execution_count": null,
      "metadata": {
        "id": "GS9LhKjCcF4P"
      },
      "outputs": [],
      "source": [
        "df_ankara_loc = df_ankara\n",
        "\n",
        "df_ankara_coordinates = pd.DataFrame(coordinates, columns = ['Latitude', 'Longitude'])\n",
        "df_ankara_loc['Latitude'] = df_ankara_coordinates['Latitude']\n",
        "df_ankara_loc['Longitude'] = df_ankara_coordinates['Longitude']"
      ]
    },
    {
      "cell_type": "code",
      "execution_count": null,
      "metadata": {
        "id": "IbB_W5G9cF4Q",
        "outputId": "e853aa25-bbe0-4af6-8cbf-e11aac078e3b"
      },
      "outputs": [
        {
          "data": {
            "text/html": [
              "<div>\n",
              "<style scoped>\n",
              "    .dataframe tbody tr th:only-of-type {\n",
              "        vertical-align: middle;\n",
              "    }\n",
              "\n",
              "    .dataframe tbody tr th {\n",
              "        vertical-align: top;\n",
              "    }\n",
              "\n",
              "    .dataframe thead th {\n",
              "        text-align: right;\n",
              "    }\n",
              "</style>\n",
              "<table border=\"1\" class=\"dataframe\">\n",
              "  <thead>\n",
              "    <tr style=\"text-align: right;\">\n",
              "      <th></th>\n",
              "      <th>District</th>\n",
              "      <th>Population (2017)</th>\n",
              "      <th>Area (km²)</th>\n",
              "      <th>Density (per km²)</th>\n",
              "      <th>Latitude</th>\n",
              "      <th>Longitude</th>\n",
              "    </tr>\n",
              "  </thead>\n",
              "  <tbody>\n",
              "    <tr>\n",
              "      <th>0</th>\n",
              "      <td>Akyurt</td>\n",
              "      <td>32.863</td>\n",
              "      <td>369</td>\n",
              "      <td>89</td>\n",
              "      <td>40.13082</td>\n",
              "      <td>33.08719</td>\n",
              "    </tr>\n",
              "    <tr>\n",
              "      <th>1</th>\n",
              "      <td>Altındağ</td>\n",
              "      <td>371.366</td>\n",
              "      <td>123</td>\n",
              "      <td>3.019</td>\n",
              "      <td>39.94171</td>\n",
              "      <td>32.85445</td>\n",
              "    </tr>\n",
              "    <tr>\n",
              "      <th>2</th>\n",
              "      <td>Ayaş</td>\n",
              "      <td>12.289</td>\n",
              "      <td>1.041</td>\n",
              "      <td>12</td>\n",
              "      <td>40.01516</td>\n",
              "      <td>32.33270</td>\n",
              "    </tr>\n",
              "    <tr>\n",
              "      <th>3</th>\n",
              "      <td>Bala</td>\n",
              "      <td>21.682</td>\n",
              "      <td>1.851</td>\n",
              "      <td>12</td>\n",
              "      <td>39.55391</td>\n",
              "      <td>33.12352</td>\n",
              "    </tr>\n",
              "    <tr>\n",
              "      <th>4</th>\n",
              "      <td>Beypazarı</td>\n",
              "      <td>48.476</td>\n",
              "      <td>1.697</td>\n",
              "      <td>29</td>\n",
              "      <td>40.16811</td>\n",
              "      <td>31.92052</td>\n",
              "    </tr>\n",
              "  </tbody>\n",
              "</table>\n",
              "</div>"
            ],
            "text/plain": [
              "    District Population (2017) Area (km²) Density (per km²)  Latitude  \\\n",
              "0     Akyurt            32.863        369                89  40.13082   \n",
              "1   Altındağ           371.366        123             3.019  39.94171   \n",
              "2       Ayaş            12.289      1.041                12  40.01516   \n",
              "3       Bala            21.682      1.851                12  39.55391   \n",
              "4  Beypazarı            48.476      1.697                29  40.16811   \n",
              "\n",
              "   Longitude  \n",
              "0   33.08719  \n",
              "1   32.85445  \n",
              "2   32.33270  \n",
              "3   33.12352  \n",
              "4   31.92052  "
            ]
          },
          "execution_count": 15,
          "metadata": {},
          "output_type": "execute_result"
        }
      ],
      "source": [
        "df_ankara_loc.head()"
      ]
    },
    {
      "cell_type": "code",
      "execution_count": null,
      "metadata": {
        "id": "mGLxBGfBcF4Q"
      },
      "outputs": [],
      "source": [
        ""
      ]
    }
  ],
  "metadata": {
    "kernelspec": {
      "display_name": "Python 3",
      "language": "python",
      "name": "python3"
    },
    "language_info": {
      "codemirror_mode": {
        "name": "ipython",
        "version": 3
      },
      "file_extension": ".py",
      "mimetype": "text/x-python",
      "name": "python",
      "nbconvert_exporter": "python",
      "pygments_lexer": "ipython3",
      "version": "3.6.5"
    },
    "colab": {
      "name": "Batalla de vecinos Semana 1.ipynb",
      "provenance": [],
      "collapsed_sections": []
    }
  },
  "nbformat": 4,
  "nbformat_minor": 0
}